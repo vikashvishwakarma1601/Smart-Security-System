{
 "cells": [
  {
   "cell_type": "code",
   "execution_count": 1,
   "metadata": {},
   "outputs": [],
   "source": [
    "import numpy as np\n",
    "from pathlib import Path\n",
    "import cv2\n",
    "from mtcnn.mtcnn import MTCNN\n",
    "import os"
   ]
  },
  {
   "cell_type": "code",
   "execution_count": 2,
   "metadata": {},
   "outputs": [],
   "source": [
    "dataset = \"Flask_Practice/static/Dataset/\""
   ]
  },
  {
   "cell_type": "code",
   "execution_count": 3,
   "metadata": {},
   "outputs": [
    {
     "name": "stderr",
     "output_type": "stream",
     "text": [
      "WARNING: Logging before flag parsing goes to stderr.\n",
      "W1128 14:47:30.372876  8884 deprecation_wrapper.py:119] From c:\\users\\windows\\appdata\\local\\programs\\python\\python36\\lib\\site-packages\\mtcnn\\mtcnn.py:187: The name tf.ConfigProto is deprecated. Please use tf.compat.v1.ConfigProto instead.\n",
      "\n",
      "W1128 14:47:30.444850  8884 deprecation_wrapper.py:119] From c:\\users\\windows\\appdata\\local\\programs\\python\\python36\\lib\\site-packages\\mtcnn\\mtcnn.py:193: The name tf.Session is deprecated. Please use tf.compat.v1.Session instead.\n",
      "\n",
      "W1128 14:47:30.552824  8884 deprecation_wrapper.py:119] From c:\\users\\windows\\appdata\\local\\programs\\python\\python36\\lib\\site-packages\\mtcnn\\network.py:43: The name tf.variable_scope is deprecated. Please use tf.compat.v1.variable_scope instead.\n",
      "\n",
      "W1128 14:47:30.552824  8884 deprecation_wrapper.py:119] From c:\\users\\windows\\appdata\\local\\programs\\python\\python36\\lib\\site-packages\\mtcnn\\layer_factory.py:88: The name tf.placeholder is deprecated. Please use tf.compat.v1.placeholder instead.\n",
      "\n",
      "W1128 14:47:30.556822  8884 deprecation_wrapper.py:119] From c:\\users\\windows\\appdata\\local\\programs\\python\\python36\\lib\\site-packages\\mtcnn\\layer_factory.py:79: The name tf.get_variable is deprecated. Please use tf.compat.v1.get_variable instead.\n",
      "\n",
      "W1128 14:47:30.560822  8884 deprecation.py:506] From c:\\users\\windows\\appdata\\local\\programs\\python\\python36\\lib\\site-packages\\tensorflow\\python\\ops\\init_ops.py:1251: calling VarianceScaling.__init__ (from tensorflow.python.ops.init_ops) with dtype is deprecated and will be removed in a future version.\n",
      "Instructions for updating:\n",
      "Call initializer instance with the dtype argument instead of passing it to the constructor\n",
      "W1128 14:47:30.608828  8884 deprecation_wrapper.py:119] From c:\\users\\windows\\appdata\\local\\programs\\python\\python36\\lib\\site-packages\\mtcnn\\layer_factory.py:171: The name tf.nn.max_pool is deprecated. Please use tf.nn.max_pool2d instead.\n",
      "\n",
      "W1128 14:47:30.788782  8884 deprecation.py:323] From c:\\users\\windows\\appdata\\local\\programs\\python\\python36\\lib\\site-packages\\mtcnn\\layer_factory.py:221: div (from tensorflow.python.ops.math_ops) is deprecated and will be removed in a future version.\n",
      "Instructions for updating:\n",
      "Deprecated in favor of operator or tf.math.divide.\n",
      "W1128 14:47:31.240651  8884 deprecation_wrapper.py:119] From c:\\users\\windows\\appdata\\local\\programs\\python\\python36\\lib\\site-packages\\mtcnn\\layer_factory.py:196: The name tf.nn.xw_plus_b is deprecated. Please use tf.compat.v1.nn.xw_plus_b instead.\n",
      "\n"
     ]
    }
   ],
   "source": [
    "face_detector = MTCNN()"
   ]
  },
  {
   "cell_type": "code",
   "execution_count": 4,
   "metadata": {},
   "outputs": [
    {
     "name": "stdout",
     "output_type": "stream",
     "text": [
      "Please Enter Your Name : sdas\n",
      "Flask_Practice/static/Dataset/sdas\n",
      "Directory created successfully.....[/]\n"
     ]
    }
   ],
   "source": [
    "person_name = input(\"Please Enter Your Name : \")\n",
    "path = dataset+person_name\n",
    "try:\n",
    "    print(path)\n",
    "    os.mkdir(path)\n",
    "    print(\"Directory created successfully.....[/]\")\n",
    "    \n",
    "except Exception as e:\n",
    "    print(str(e).split(\":\")[0][-19:].title()+\".....[/]\")\n",
    "    "
   ]
  },
  {
   "cell_type": "code",
   "execution_count": 5,
   "metadata": {},
   "outputs": [],
   "source": [
    "capture = cv2.VideoCapture(0)"
   ]
  },
  {
   "cell_type": "code",
   "execution_count": 6,
   "metadata": {},
   "outputs": [
    {
     "name": "stdout",
     "output_type": "stream",
     "text": [
      "1 Image saved successfully.....[/]\n",
      "2 Image saved successfully.....[/]\n",
      "3 Image saved successfully.....[/]\n",
      "4 Image saved successfully.....[/]\n",
      "5 Image saved successfully.....[/]\n",
      "6 Image saved successfully.....[/]\n",
      "7 Image saved successfully.....[/]\n",
      "8 Image saved successfully.....[/]\n",
      "9 Image saved successfully.....[/]\n",
      "10 Image saved successfully.....[/]\n",
      "11 Image saved successfully.....[/]\n",
      "12 Image saved successfully.....[/]\n",
      "13 Image saved successfully.....[/]\n",
      "14 Image saved successfully.....[/]\n",
      "15 Image saved successfully.....[/]\n",
      "16 Image saved successfully.....[/]\n",
      "17 Image saved successfully.....[/]\n",
      "18 Image saved successfully.....[/]\n",
      "19 Image saved successfully.....[/]\n",
      "20 Image saved successfully.....[/]\n",
      "21 Image saved successfully.....[/]\n",
      "22 Image saved successfully.....[/]\n",
      "23 Image saved successfully.....[/]\n",
      "24 Image saved successfully.....[/]\n",
      "25 Image saved successfully.....[/]\n",
      "26 Image saved successfully.....[/]\n",
      "27 Image saved successfully.....[/]\n",
      "28 Image saved successfully.....[/]\n",
      "29 Image saved successfully.....[/]\n",
      "30 Image saved successfully.....[/]\n",
      "Done...[/]\n"
     ]
    }
   ],
   "source": [
    "skip = 0\n",
    "offset = 5\n",
    "seq_no = 1 \n",
    "count = 0\n",
    "\n",
    "while True:\n",
    "    \n",
    "    ret,frame = capture.read(0)\n",
    "    if(ret==False):\n",
    "        continue\n",
    "    cv2.imshow(\"Frame\",frame)\n",
    "    face = face_detector.detect_faces(frame)\n",
    "    original_frame = np.asarray(list(frame))\n",
    "    try:\n",
    "        \n",
    "        x,y,w,h = face[0]['box']\n",
    "        keypoints = face[0]['keypoints']\n",
    "        face_section = original_frame[y-offset:y+h+offset,x-offset:x+w+offset]\n",
    "        cv2.rectangle(frame,(x, y),(x+w, y+h),(0,145,255),2)\n",
    "        cv2.circle(frame,(keypoints['left_eye']), 2, (0,155,255), 2)\n",
    "        cv2.circle(frame,(keypoints['right_eye']), 2, (0,155,255), 2)\n",
    "        cv2.circle(frame,(keypoints['nose']), 2, (0,155,255), 2)\n",
    "        cv2.circle(frame,(keypoints['mouth_left']), 2, (0,155,255), 2)\n",
    "        cv2.circle(frame,(keypoints['mouth_right']), 2, (0,155,255), 2)\n",
    "        cv2.imshow(\"Faces in Frame\",face_section)\n",
    "        cv2.imshow(\"Frame\",frame)\n",
    "        \n",
    "        if(skip==8):\n",
    "            skip = 0\n",
    "            cv2.imwrite(path+\"/\"+person_name+str(seq_no)+\".jpg\",face_section)\n",
    "            count+=1\n",
    "            print(count,\"Image saved successfully.....[/]\")\n",
    "            seq_no +=1\n",
    "        skip +=1\n",
    "        \n",
    "        if(count==30):\n",
    "            print(\"Done...[/]\")\n",
    "            capture.release()\n",
    "            cv2.destroyAllWindows()\n",
    "            break\n",
    "            \n",
    "    except Exception as e:\n",
    "        pass\n",
    "    if(cv2.waitKey(1) & 0xFF == ord('q')):\n",
    "        capture.release()\n",
    "        cv2.destroyAllWindows()\n",
    "        break\n",
    "\n",
    "\n",
    "    \n",
    "    "
   ]
  },
  {
   "cell_type": "code",
   "execution_count": 10,
   "metadata": {},
   "outputs": [],
   "source": [
    "capture.release()\n",
    "cv2.destroyAllWindows()"
   ]
  },
  {
   "cell_type": "code",
   "execution_count": null,
   "metadata": {},
   "outputs": [],
   "source": []
  }
 ],
 "metadata": {
  "kernelspec": {
   "display_name": "Python 3",
   "language": "python",
   "name": "python3"
  },
  "language_info": {
   "codemirror_mode": {
    "name": "ipython",
    "version": 3
   },
   "file_extension": ".py",
   "mimetype": "text/x-python",
   "name": "python",
   "nbconvert_exporter": "python",
   "pygments_lexer": "ipython3",
   "version": "3.6.4"
  }
 },
 "nbformat": 4,
 "nbformat_minor": 2
}

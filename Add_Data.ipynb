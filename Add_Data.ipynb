{
 "cells": [
  {
   "cell_type": "code",
   "execution_count": 1,
   "metadata": {},
   "outputs": [],
   "source": [
    "import pandas as pd\n",
    "from pathlib import Path\n",
    "import re"
   ]
  },
  {
   "cell_type": "code",
   "execution_count": 8,
   "metadata": {},
   "outputs": [],
   "source": [
    "class Updation:\n",
    "    \n",
    "    def __init__(self,name,email,dob,ContactNo):\n",
    "        self.name = name\n",
    "        self.email = email\n",
    "        self.dob = dob\n",
    "        self.ContactNo = ContactNo\n",
    "        \n",
    "    def Validation(self):\n",
    "        regex = '^\\w+([\\.-]?\\w+)*@\\w+([\\.-]?\\w+)*(\\.\\w{2,3})+$'\n",
    "        if(re.search(regex,self.email)):  \n",
    "            print(\"Email Verified Successfully .....[/]\\n\")\n",
    "            if(len(self.ContactNo)==10 and re.compile(\"[6-9][0-9]{9}\").match(self.ContactNo)):\n",
    "                print(\"Contact Number Verified Successfully ....[/]\")\n",
    "                if(len(self.dob)==10):\n",
    "                    if(int(self.dob[:2])>0 and int(self.dob[:2])<31 and int(self.dob[3:5])>0 and int(self.dob[3:5])<=12):\n",
    "                        print(\"Date of Birth Verified Successfully ....[/]\")\n",
    "                        return True\n",
    "                    else:\n",
    "                        print(\"Error in Date of Birth ....[/]\")\n",
    "                        return False\n",
    "                else:\n",
    "                    print(\"Format does not match in Date of Birth ....[/]\")\n",
    "                    return False\n",
    "            else:\n",
    "                print(\"Invalid Contact Number ....[/]\")\n",
    "                return False\n",
    "        else:\n",
    "            print(\"Invalid Email ....[/]\")\n",
    "            return False     \n",
    "    \n",
    "    \n",
    "    def add_data(self):\n",
    "        df = None\n",
    "        data = {'Name':None,'DOB':None,'Email':None,\"ContactNumber\":None}\n",
    "        data['Name'] = self.name\n",
    "        data['DOB'] = self.dob\n",
    "        data['Email'] = self.email\n",
    "        data['ContactNumber'] = self.ContactNo\n",
    "\n",
    "        check_file = None\n",
    "        print(data)\n",
    "        try:\n",
    "            df = pd.read_csv(\"Flask_Practice/static/OrganisationData/Data.csv\",index_col=0)\n",
    "            check_file = True\n",
    "\n",
    "        except Exception as e:\n",
    "            check_file = False\n",
    "            df = pd.DataFrame(data,index = [0])\n",
    "            df.to_csv(\"Flask_Practice/static/OrganisationData/Data.csv\")\n",
    "\n",
    "        if(check_file):\n",
    "            data = pd.DataFrame(data,index = [0])\n",
    "            df = pd.concat([df, data])\n",
    "            df.to_csv(\"Flask_Practice/static/OrganisationData/Data.csv\")\n",
    "        print(\"Data Uploaded Successfully .....[/]\")\n",
    "    "
   ]
  },
  {
   "cell_type": "code",
   "execution_count": 9,
   "metadata": {},
   "outputs": [],
   "source": [
    "def main():\n",
    "    name=email=dob=contactNo=None\n",
    "    name = input(\"Enter Name of Person : \")\n",
    "    email = input(\"\"\"Enter mail \"abc@gmail.com\" : \"\"\")\n",
    "    dob = input(\"\"\"Enter Date of Birth \"01/01/1998\" : \"\"\")\n",
    "    contactNo = input(\"Enter Contact Number\")\n",
    "    \n",
    "    val = Updation(name,email,dob,contactNo)\n",
    "    if(val.Validation()):\n",
    "        val.add_data()\n",
    "    else:\n",
    "        print(\"Error in Data .....[/]\")"
   ]
  },
  {
   "cell_type": "code",
   "execution_count": 10,
   "metadata": {},
   "outputs": [
    {
     "name": "stdout",
     "output_type": "stream",
     "text": [
      "Enter Name of Person : Vishal\n",
      "Enter mail \"abc@gmail.com\" : vishal@gmail.com\n",
      "Enter Date of Birth \"01/01/1998\" : 01/02/1998\n",
      "Enter Contact Number7894561235\n",
      "Email Verified Successfully .....[/]\n",
      "\n",
      "Contact Number Verified Successfully ....[/]\n",
      "Date of Birth Verified Successfully ....[/]\n",
      "{'Name': 'Vishal', 'DOB': '01/02/1998', 'Email': 'vishal@gmail.com', 'ContactNumber': '7894561235'}\n",
      "Data Uploaded Successfully .....[/]\n"
     ]
    }
   ],
   "source": [
    "main()"
   ]
  },
  {
   "cell_type": "code",
   "execution_count": 118,
   "metadata": {},
   "outputs": [],
   "source": [
    "x=y=0"
   ]
  },
  {
   "cell_type": "code",
   "execution_count": 119,
   "metadata": {},
   "outputs": [
    {
     "data": {
      "text/plain": [
       "0"
      ]
     },
     "execution_count": 119,
     "metadata": {},
     "output_type": "execute_result"
    }
   ],
   "source": [
    "x"
   ]
  },
  {
   "cell_type": "code",
   "execution_count": null,
   "metadata": {},
   "outputs": [],
   "source": []
  }
 ],
 "metadata": {
  "kernelspec": {
   "display_name": "Python 3",
   "language": "python",
   "name": "python3"
  },
  "language_info": {
   "codemirror_mode": {
    "name": "ipython",
    "version": 3
   },
   "file_extension": ".py",
   "mimetype": "text/x-python",
   "name": "python",
   "nbconvert_exporter": "python",
   "pygments_lexer": "ipython3",
   "version": "3.6.4"
  }
 },
 "nbformat": 4,
 "nbformat_minor": 2
}
